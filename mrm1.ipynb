{
 "cells": [
  {
   "cell_type": "code",
   "execution_count": 1,
   "id": "833f3ac1-bd8b-4067-8460-fe4da9bd45aa",
   "metadata": {},
   "outputs": [
    {
     "name": "stdout",
     "output_type": "stream",
     "text": [
      "                                               title  \\\n",
      "1706                                     Antz (1998)   \n",
      "2355                              Toy Story 2 (1999)   \n",
      "2809  Adventures of Rocky and Bullwinkle, The (2000)   \n",
      "3000                Emperor's New Groove, The (2000)   \n",
      "3568                           Monsters, Inc. (2001)   \n",
      "\n",
      "                                           genres  \n",
      "1706  Adventure|Animation|Children|Comedy|Fantasy  \n",
      "2355  Adventure|Animation|Children|Comedy|Fantasy  \n",
      "2809  Adventure|Animation|Children|Comedy|Fantasy  \n",
      "3000  Adventure|Animation|Children|Comedy|Fantasy  \n",
      "3568  Adventure|Animation|Children|Comedy|Fantasy  \n"
     ]
    }
   ],
   "source": [
    "import pandas as pd\n",
    "from sklearn.feature_extraction.text import TfidfVectorizer\n",
    "from sklearn.metrics.pairwise import cosine_similarity\n",
    "\n",
    "# 1. Load movies dataset (make sure movies.csv is in the same folder)\n",
    "movies = pd.read_csv(\"movies.csv\")\n",
    "\n",
    "# 2. Create TF-IDF matrix from genres\n",
    "tfidf = TfidfVectorizer(stop_words=\"english\")\n",
    "tfidf_matrix = tfidf.fit_transform(movies[\"genres\"].fillna(\"\"))\n",
    "\n",
    "# 3. Compute similarity between all movies\n",
    "cosine_sim = cosine_similarity(tfidf_matrix, tfidf_matrix)\n",
    "\n",
    "# 4. Create index mapping (title -> index)\n",
    "indices = pd.Series(movies.index, index=movies['title']).drop_duplicates()\n",
    "\n",
    "# 5. Recommendation function\n",
    "def recommend_movies(title, k=5):\n",
    "    if title not in indices:\n",
    "        return f\"Movie '{title}' not found in dataset.\"\n",
    "    idx = indices[title]\n",
    "    sim_scores = sorted(list(enumerate(cosine_sim[idx])), key=lambda x: x[1], reverse=True)[1:k+1]\n",
    "    movie_indices = [i[0] for i in sim_scores]\n",
    "    return movies.iloc[movie_indices][[\"title\",\"genres\"]]\n",
    "\n",
    "# Example: recommend movies similar to \"Toy Story (1995)\"\n",
    "print(recommend_movies(\"Toy Story (1995)\"))"
   ]
  },
  {
   "cell_type": "code",
   "execution_count": null,
   "id": "803c9a0d-6930-434a-9824-0babf7812708",
   "metadata": {},
   "outputs": [],
   "source": []
  }
 ],
 "metadata": {
  "kernelspec": {
   "display_name": "Python [conda env:base] *",
   "language": "python",
   "name": "conda-base-py"
  },
  "language_info": {
   "codemirror_mode": {
    "name": "ipython",
    "version": 3
   },
   "file_extension": ".py",
   "mimetype": "text/x-python",
   "name": "python",
   "nbconvert_exporter": "python",
   "pygments_lexer": "ipython3",
   "version": "3.13.5"
  }
 },
 "nbformat": 4,
 "nbformat_minor": 5
}

{
 "cells": [
  {
   "cell_type": "code",
   "execution_count": 10,
   "id": "93919870-5cfd-4002-a2a7-f7738c5d6b9f",
   "metadata": {},
   "outputs": [
    {
     "name": "stdin",
     "output_type": "stream",
     "text": [
      "You:  hi\n"
     ]
    },
    {
     "name": "stdout",
     "output_type": "stream",
     "text": [
      "Bot: Hi! This is your personal chatbot. How can I help you?\n"
     ]
    },
    {
     "name": "stdin",
     "output_type": "stream",
     "text": [
      "You:  my name is sreedevithirupathi\n"
     ]
    },
    {
     "name": "stdout",
     "output_type": "stream",
     "text": [
      "Bot: Hi! This is your personal chatbot. How can I help you?\n"
     ]
    },
    {
     "name": "stdin",
     "output_type": "stream",
     "text": [
      "You:  could you assist in my workflow\n"
     ]
    },
    {
     "name": "stdout",
     "output_type": "stream",
     "text": [
      "Bot: Sorry! There seems to be some issue. Please contact me later.\n"
     ]
    },
    {
     "name": "stdin",
     "output_type": "stream",
     "text": [
      "You:  bye\n"
     ]
    },
    {
     "name": "stdout",
     "output_type": "stream",
     "text": [
      "Bot: Goodbye! 👋\n"
     ]
    }
   ],
   "source": [
    "def chatbot_response(user_input):\n",
    "    user_input = user_input.lower()   # fixed variable (lower_user_input not needed)\n",
    "    \n",
    "    if \"hi\" in user_input:\n",
    "        return \"Hi! This is your personal chatbot. How can I help you?\"\n",
    "    \n",
    "    elif \"my name as sreedevithirupathi\" in user_input:\n",
    "        return \" its nice meeting you sreedevi,I am a rule-based chatbot. I can assist you in any task.\"\n",
    "    \n",
    "    elif \"your feedback on chatbot\" in user_input:\n",
    "        return \"It's nice to meet you! Do you have any other tasks to solve?\"\n",
    "    \n",
    "    else:\n",
    "        return \"Sorry! There seems to be some issue. Please contact me later.\"\n",
    "#chatbotresponse\n",
    "while True:\n",
    "    user_text = input(\"You: \")\n",
    "    if user_text.lower() in [\"exit\", \"quit\", \"bye\"]:\n",
    "        print(\"Bot: Goodbye! 👋\")\n",
    "        break\n",
    "    response = chatbot_response(user_text)\n",
    "    print(\"Bot:\", response)"
   ]
  },
  {
   "cell_type": "code",
   "execution_count": null,
   "id": "c56f53ea-c4ba-4225-9aed-daac8f383695",
   "metadata": {},
   "outputs": [],
   "source": []
  }
 ],
 "metadata": {
  "kernelspec": {
   "display_name": "Python [conda env:base] *",
   "language": "python",
   "name": "conda-base-py"
  },
  "language_info": {
   "codemirror_mode": {
    "name": "ipython",
    "version": 3
   },
   "file_extension": ".py",
   "mimetype": "text/x-python",
   "name": "python",
   "nbconvert_exporter": "python",
   "pygments_lexer": "ipython3",
   "version": "3.13.5"
  }
 },
 "nbformat": 4,
 "nbformat_minor": 5
}
